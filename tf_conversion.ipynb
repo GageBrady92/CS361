{
  "nbformat": 4,
  "nbformat_minor": 0,
  "metadata": {
    "colab": {
      "provenance": [],
      "gpuType": "T4",
      "authorship_tag": "ABX9TyPONoZ04ds0j8Zux0sB5QUY",
      "include_colab_link": true
    },
    "kernelspec": {
      "name": "python3",
      "display_name": "Python 3"
    },
    "language_info": {
      "name": "python"
    },
    "accelerator": "GPU"
  },
  "cells": [
    {
      "cell_type": "markdown",
      "metadata": {
        "id": "view-in-github",
        "colab_type": "text"
      },
      "source": [
        "<a href=\"https://colab.research.google.com/github/GageBrady92/CS361/blob/main/tf_conversion.ipynb\" target=\"_parent\"><img src=\"https://colab.research.google.com/assets/colab-badge.svg\" alt=\"Open In Colab\"/></a>"
      ]
    },
    {
      "cell_type": "markdown",
      "source": [
        "Import necessary files to convert model for js"
      ],
      "metadata": {
        "id": "1cVC3bSR1JIG"
      }
    },
    {
      "cell_type": "code",
      "source": [
        "import os\n",
        "import tensorflow as tf\n",
        "\n",
        "model = tf.keras.applications.MobileNetV2(\n",
        "    input_shape=(224,224,3), weights='imagenet',\n",
        "    classifier_activation='softmax'\n",
        ")\n"
      ],
      "metadata": {
        "id": "t6plI-TKwc_z"
      },
      "execution_count": null,
      "outputs": []
    },
    {
      "cell_type": "markdown",
      "source": [
        "save path for model"
      ],
      "metadata": {
        "id": "IZORmlJw1Tbh"
      }
    },
    {
      "cell_type": "code",
      "source": [
        "from tensorflow.python.saved_model.save import save\n",
        "\n",
        "save_dir = os.path.join('tmp/', 'mobilenetv2/saved_model.pb')\n",
        "\n",
        "model.save(save_dir)"
      ],
      "metadata": {
        "colab": {
          "base_uri": "https://localhost:8080/"
        },
        "id": "8eJJHYEHw9yK",
        "outputId": "4aaf66eb-39f1-4202-971b-6ebf62f336fc"
      },
      "execution_count": 47,
      "outputs": [
        {
          "output_type": "stream",
          "name": "stderr",
          "text": [
            "WARNING:tensorflow:Compiled the loaded model, but the compiled metrics have yet to be built. `model.compile_metrics` will be empty until you train or evaluate the model.\n"
          ]
        }
      ]
    },
    {
      "cell_type": "code",
      "source": [
        "!pip3 install tensorflowjs"
      ],
      "metadata": {
        "id": "W-WWM-yRvKhu"
      },
      "execution_count": null,
      "outputs": []
    },
    {
      "cell_type": "code",
      "source": [
        "!cd /content/inference_graph/tmp/mobilenetv2\n"
      ],
      "metadata": {
        "id": "mXFyPOXsv0_U"
      },
      "execution_count": 51,
      "outputs": []
    },
    {
      "cell_type": "markdown",
      "source": [
        "Convert the graph model to js"
      ],
      "metadata": {
        "id": "_LOs1PTx1WiW"
      }
    },
    {
      "cell_type": "code",
      "source": [
        "!tensorflowjs_converter --input_format=tf_saved_model --output_format=tfjs_graph_model /content/inference_graph/tmp/mobilenetv2/saved_model.pb /content/inference_graph"
      ],
      "metadata": {
        "id": "3STwdowoyLyu"
      },
      "execution_count": null,
      "outputs": []
    }
  ]
}